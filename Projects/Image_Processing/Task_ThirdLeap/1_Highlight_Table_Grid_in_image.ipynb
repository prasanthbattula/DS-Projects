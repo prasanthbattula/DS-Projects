{
 "cells": [
  {
   "cell_type": "markdown",
   "metadata": {},
   "source": [
    "# Highlight Table Grid in an image"
   ]
  },
  {
   "cell_type": "code",
   "execution_count": 1,
   "metadata": {
    "scrolled": true
   },
   "outputs": [],
   "source": [
    "# import opencv and numpy libraries\n",
    "import cv2\n",
    "import numpy as np"
   ]
  },
  {
   "cell_type": "code",
   "execution_count": 2,
   "metadata": {},
   "outputs": [],
   "source": [
    "# Create a function to highlight table grid in an image\n",
    "\n",
    "def Highlight_Table(path): # path parameter is nothing but the image location in the computer\n",
    "    cv2.namedWindow(\"Modified\", cv2.WINDOW_NORMAL) # to give output normal window without zooming use cv2.WINDOW_NORMAL\n",
    "    img = cv2.imread(path) \n",
    "    gray = cv2.cvtColor(img, cv2.COLOR_BGR2GRAY)# convert colored image to gray to perform any operations in image processing\n",
    "    \n",
    "    #detect the edges using Canny whcich is a function of opencv\n",
    "    edges = cv2.Canny(gray, 10,200)\n",
    "    \n",
    "    #using the edges detected with Canny, detect the lines using HoughLinesP algorithm\n",
    "    lines = cv2.HoughLinesP(edges,1, np.pi/180,150, maxLineGap=60) \n",
    "    \n",
    "    for line in lines:\n",
    "        x1,y1,x2,y2 = line[0]\n",
    "        cv2.line(img, (x1,y1), (x2,y2), (60,20,220),2)\n",
    "    cv2.imwrite(\"Modified.jpg\", img)\n",
    "    cv2.imshow(\"Modified\",img)\n",
    "    cv2.waitKey(0)"
   ]
  },
  {
   "cell_type": "code",
   "execution_count": null,
   "metadata": {},
   "outputs": [],
   "source": [
    "Highlight_Table(path='./data/1.jpg')"
   ]
  },
  {
   "cell_type": "code",
   "execution_count": null,
   "metadata": {},
   "outputs": [],
   "source": []
  }
 ],
 "metadata": {
  "kernelspec": {
   "display_name": "Python 3",
   "language": "python",
   "name": "python3"
  },
  "language_info": {
   "codemirror_mode": {
    "name": "ipython",
    "version": 3
   },
   "file_extension": ".py",
   "mimetype": "text/x-python",
   "name": "python",
   "nbconvert_exporter": "python",
   "pygments_lexer": "ipython3",
   "version": "3.8.0"
  }
 },
 "nbformat": 4,
 "nbformat_minor": 2
}
