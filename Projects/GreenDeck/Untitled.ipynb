{
 "cells": [
  {
   "cell_type": "code",
   "execution_count": 1,
   "metadata": {},
   "outputs": [],
   "source": [
    "import pandas as pd\n",
    "import json\n",
    "import urllib\n",
    "import requests\n"
   ]
  },
  {
   "cell_type": "markdown",
   "metadata": {},
   "source": [
    "##### 5d0b8aca0db7220b86cb4035|Joules Top Dog Underwear Three Pack|{'offer_price': {'currency': 'GBP', 'value': 35.0}, 'regular_price': {'currency': 'GBP', 'value': 35.0}}|5cff5e7fe40f4900046735fa|312838|www.next.co.uk/style/st355408#312838|{'name': 'joules', 'sub_brand': ''}|{'standard': [{'order': 1, 'url': 'https://xcdn.next.co.uk/Common/Items/Default/Default/ItemImages/AltItemShot/315x472/312838.jpg'}]}|95% Cotton, 5% Elastane."
   ]
  },
  {
   "cell_type": "code",
   "execution_count": 2,
   "metadata": {},
   "outputs": [
    {
     "name": "stderr",
     "output_type": "stream",
     "text": [
      "b'Skipping line 231: expected 9 fields, saw 10\\nSkipping line 238: expected 9 fields, saw 11\\nSkipping line 14586: expected 9 fields, saw 11\\nSkipping line 19227: expected 9 fields, saw 16\\nSkipping line 38750: expected 9 fields, saw 10\\nSkipping line 44376: expected 9 fields, saw 10\\nSkipping line 53091: expected 9 fields, saw 16\\nSkipping line 54199: expected 9 fields, saw 16\\nSkipping line 60527: expected 9 fields, saw 11\\nSkipping line 64070: expected 9 fields, saw 11\\n'\n",
      "b'Skipping line 74409: expected 9 fields, saw 10\\nSkipping line 74807: expected 9 fields, saw 13\\nSkipping line 80508: expected 9 fields, saw 16\\nSkipping line 95599: expected 9 fields, saw 10\\nSkipping line 96440: expected 9 fields, saw 10\\nSkipping line 106464: expected 9 fields, saw 11\\nSkipping line 106631: expected 9 fields, saw 10\\nSkipping line 109119: expected 9 fields, saw 10\\nSkipping line 125056: expected 9 fields, saw 10\\nSkipping line 126747: expected 9 fields, saw 11\\nSkipping line 127291: expected 9 fields, saw 10\\nSkipping line 127880: expected 9 fields, saw 11\\nSkipping line 128347: expected 9 fields, saw 11\\nSkipping line 128418: expected 9 fields, saw 10\\nSkipping line 129263: expected 9 fields, saw 11\\nSkipping line 129544: expected 9 fields, saw 11\\nSkipping line 130044: expected 9 fields, saw 11\\nSkipping line 130101: expected 9 fields, saw 11\\nSkipping line 131175: expected 9 fields, saw 11\\nSkipping line 131419: expected 9 fields, saw 11\\nSkipping line 131806: expected 9 fields, saw 11\\n'\n",
      "b'Skipping line 133103: expected 9 fields, saw 11\\nSkipping line 135398: expected 9 fields, saw 11\\nSkipping line 135981: expected 9 fields, saw 11\\nSkipping line 136797: expected 9 fields, saw 11\\nSkipping line 137686: expected 9 fields, saw 11\\nSkipping line 137968: expected 9 fields, saw 11\\nSkipping line 138023: expected 9 fields, saw 11\\nSkipping line 138520: expected 9 fields, saw 11\\nSkipping line 138870: expected 9 fields, saw 11\\nSkipping line 138990: expected 9 fields, saw 10\\nSkipping line 140354: expected 9 fields, saw 11\\nSkipping line 142903: expected 9 fields, saw 10\\nSkipping line 143032: expected 9 fields, saw 11\\nSkipping line 143048: expected 9 fields, saw 11\\nSkipping line 144096: expected 9 fields, saw 11\\nSkipping line 144975: expected 9 fields, saw 11\\nSkipping line 146503: expected 9 fields, saw 11\\nSkipping line 146903: expected 9 fields, saw 11\\nSkipping line 147101: expected 9 fields, saw 11\\nSkipping line 149439: expected 9 fields, saw 11\\nSkipping line 149608: expected 9 fields, saw 11\\nSkipping line 150964: expected 9 fields, saw 10\\nSkipping line 151278: expected 9 fields, saw 10\\nSkipping line 152561: expected 9 fields, saw 11\\nSkipping line 152600: expected 9 fields, saw 11\\nSkipping line 153154: expected 9 fields, saw 11\\nSkipping line 153742: expected 9 fields, saw 11\\nSkipping line 156089: expected 9 fields, saw 11\\nSkipping line 156416: expected 9 fields, saw 11\\nSkipping line 156667: expected 9 fields, saw 11\\nSkipping line 157018: expected 9 fields, saw 11\\nSkipping line 157834: expected 9 fields, saw 11\\nSkipping line 158043: expected 9 fields, saw 10\\nSkipping line 158173: expected 9 fields, saw 11\\nSkipping line 158381: expected 9 fields, saw 11\\nSkipping line 159424: expected 9 fields, saw 11\\nSkipping line 159634: expected 9 fields, saw 11\\nSkipping line 160710: expected 9 fields, saw 11\\nSkipping line 161302: expected 9 fields, saw 11\\nSkipping line 161910: expected 9 fields, saw 11\\nSkipping line 163029: expected 9 fields, saw 11\\nSkipping line 163900: expected 9 fields, saw 11\\nSkipping line 164355: expected 9 fields, saw 11\\nSkipping line 164689: expected 9 fields, saw 11\\nSkipping line 168172: expected 9 fields, saw 11\\nSkipping line 168993: expected 9 fields, saw 11\\nSkipping line 170853: expected 9 fields, saw 11\\nSkipping line 173149: expected 9 fields, saw 11\\nSkipping line 176228: expected 9 fields, saw 11\\nSkipping line 177351: expected 9 fields, saw 11\\nSkipping line 179925: expected 9 fields, saw 11\\nSkipping line 181134: expected 9 fields, saw 11\\nSkipping line 181941: expected 9 fields, saw 11\\nSkipping line 182703: expected 9 fields, saw 11\\nSkipping line 183624: expected 9 fields, saw 11\\nSkipping line 185858: expected 9 fields, saw 10\\nSkipping line 187759: expected 9 fields, saw 11\\nSkipping line 188448: expected 9 fields, saw 11\\nSkipping line 188667: expected 9 fields, saw 11\\nSkipping line 188784: expected 9 fields, saw 11\\nSkipping line 188785: expected 9 fields, saw 11\\nSkipping line 189290: expected 9 fields, saw 11\\nSkipping line 189600: expected 9 fields, saw 18\\nSkipping line 190423: expected 9 fields, saw 11\\nSkipping line 190860: expected 9 fields, saw 11\\nSkipping line 193268: expected 9 fields, saw 11\\nSkipping line 193395: expected 9 fields, saw 10\\nSkipping line 194555: expected 9 fields, saw 11\\nSkipping line 196683: expected 9 fields, saw 11\\nSkipping line 197201: expected 9 fields, saw 11\\n'\n",
      "b'Skipping line 200533: expected 9 fields, saw 11\\nSkipping line 201104: expected 9 fields, saw 11\\nSkipping line 201576: expected 9 fields, saw 11\\nSkipping line 201640: expected 9 fields, saw 10\\nSkipping line 204189: expected 9 fields, saw 11\\nSkipping line 205347: expected 9 fields, saw 11\\nSkipping line 205438: expected 9 fields, saw 11\\nSkipping line 208860: expected 9 fields, saw 11\\nSkipping line 209048: expected 9 fields, saw 10\\nSkipping line 209232: expected 9 fields, saw 11\\nSkipping line 211084: expected 9 fields, saw 10\\nSkipping line 211322: expected 9 fields, saw 11\\nSkipping line 211763: expected 9 fields, saw 11\\nSkipping line 211934: expected 9 fields, saw 11\\nSkipping line 212033: expected 9 fields, saw 11\\nSkipping line 212465: expected 9 fields, saw 11\\nSkipping line 212658: expected 9 fields, saw 11\\nSkipping line 215701: expected 9 fields, saw 11\\nSkipping line 216698: expected 9 fields, saw 11\\nSkipping line 217029: expected 9 fields, saw 11\\nSkipping line 217378: expected 9 fields, saw 11\\nSkipping line 219575: expected 9 fields, saw 11\\nSkipping line 219847: expected 9 fields, saw 11\\nSkipping line 220503: expected 9 fields, saw 11\\nSkipping line 220523: expected 9 fields, saw 11\\nSkipping line 222602: expected 9 fields, saw 11\\nSkipping line 222656: expected 9 fields, saw 11\\nSkipping line 224105: expected 9 fields, saw 11\\nSkipping line 226170: expected 9 fields, saw 11\\nSkipping line 227436: expected 9 fields, saw 11\\nSkipping line 228045: expected 9 fields, saw 11\\nSkipping line 228193: expected 9 fields, saw 11\\nSkipping line 228745: expected 9 fields, saw 11\\nSkipping line 228892: expected 9 fields, saw 11\\nSkipping line 229844: expected 9 fields, saw 11\\nSkipping line 231181: expected 9 fields, saw 11\\nSkipping line 232479: expected 9 fields, saw 11\\nSkipping line 232532: expected 9 fields, saw 11\\nSkipping line 239275: expected 9 fields, saw 10\\n'\n",
      "b'Skipping line 281100: expected 9 fields, saw 10\\n'\n",
      "/home/prasanth/anaconda3/lib/python3.7/site-packages/IPython/core/interactiveshell.py:3058: DtypeWarning: Columns (4) have mixed types. Specify dtype option on import or set low_memory=False.\n",
      "  interactivity=interactivity, compiler=compiler, result=result)\n"
     ]
    },
    {
     "data": {
      "text/plain": [
       "(317397, 9)"
      ]
     },
     "execution_count": 2,
     "metadata": {},
     "output_type": "execute_result"
    }
   ],
   "source": [
    "df = pd.read_csv('data_engineering_assignment.txt', sep='|', error_bad_lines=False)\n",
    "df = df.dropna()\n",
    "df.shape"
   ]
  },
  {
   "cell_type": "code",
   "execution_count": 3,
   "metadata": {},
   "outputs": [],
   "source": [
    "regular_values = []\n",
    "offer_values = []\n",
    "for key in df['price']:\n",
    "    key = json.loads(key.replace(\"'\",'\"'))\n",
    "    regular_values.append(key['regular_price'].get('value', 0))\n",
    "    offer_values.append(key['offer_price'].get('value', 0))\n",
    "df['regular']=regular_values\n",
    "df['offer'] = offer_values"
   ]
  },
  {
   "cell_type": "code",
   "execution_count": 4,
   "metadata": {},
   "outputs": [
    {
     "data": {
      "text/plain": [
       "(317397, 11)"
      ]
     },
     "execution_count": 4,
     "metadata": {},
     "output_type": "execute_result"
    }
   ],
   "source": [
    "df.shape"
   ]
  },
  {
   "cell_type": "code",
   "execution_count": 5,
   "metadata": {},
   "outputs": [],
   "source": [
    "df1 = df[df['regular']>=df['offer']]"
   ]
  },
  {
   "cell_type": "code",
   "execution_count": null,
   "metadata": {},
   "outputs": [],
   "source": [
    "for num, url in df1.url.iteritems():\n",
    "#     h = httplib2.Http()\n",
    "#     resp = h.request(url, 'HEAD')\n",
    "#     status = int(resp[0]['status'])\n",
    "    if not( url.startswith(\"http\") or url.startswith(\"https\")):\n",
    "        url = \"http://\" + url\n",
    "    res = requests.head(url)\n",
    "    print(url, res.headers, res.status_code)"
   ]
  },
  {
   "cell_type": "code",
   "execution_count": null,
   "metadata": {},
   "outputs": [],
   "source": []
  }
 ],
 "metadata": {
  "kernelspec": {
   "display_name": "Python 3",
   "language": "python",
   "name": "python3"
  },
  "language_info": {
   "codemirror_mode": {
    "name": "ipython",
    "version": 3
   },
   "file_extension": ".py",
   "mimetype": "text/x-python",
   "name": "python",
   "nbconvert_exporter": "python",
   "pygments_lexer": "ipython3",
   "version": "3.7.4"
  }
 },
 "nbformat": 4,
 "nbformat_minor": 2
}
